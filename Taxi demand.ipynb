{
 "cells": [
  {
   "cell_type": "markdown",
   "metadata": {},
   "source": [
    "# Taxi demand prediction\n",
    "\n",
    "## Problem\n",
    "Supply/demand information plays an important role in taxi operations. The task is to predict demand by location and time.\n",
    "\n",
    "## Data\n",
    "Data is a simplified version of [Chicago Taxi Rides 2016](https://www.kaggle.com/chicago/chicago-taxi-rides-2016). It contains only 3 months of data (January-March) and 4 columns:\n",
    "\n",
    "**pickup_latitude** - The id code for the latitude of the center of the pickup census tract or the community area if the census tract has been hidden for privacy. <br>\n",
    "**pickup_longitude** - The id code for the longitude of the center of the pickup census tract or the community area if the census tract has been hidden for privacy. <br>\n",
    "**trip_start_timestamp** - When the trip started, rounded to the nearest 15 minutes.<br>\n",
    "**pickup_community_area** - The Community Area where the trip began."
   ]
  },
  {
   "cell_type": "code",
   "execution_count": 2,
   "metadata": {},
   "outputs": [],
   "source": [
    "import pandas as pd\n",
    "import glob\n",
    "import seaborn as sns\n",
    "import matplotlib.pyplot as plt\n",
    "import numpy as np\n",
    "import zipfile\n",
    "import pickle\n",
    "import joblib\n",
    "from sklearn.model_selection import train_test_split\n",
    "from sklearn.ensemble import RandomForestRegressor\n",
    "from sklearn.metrics import mean_squared_error\n",
    "from sklearn.linear_model import LinearRegression\n",
    "from sklearn.ensemble import GradientBoostingRegressor\n",
    "from sklearn.model_selection import GridSearchCV\n",
    "from collections import Counter"
   ]
  },
  {
   "cell_type": "markdown",
   "metadata": {},
   "source": [
    "### Unzipping and loading data"
   ]
  },
  {
   "cell_type": "code",
   "execution_count": 3,
   "metadata": {},
   "outputs": [],
   "source": [
    "path = r'data'\n",
    "zips = glob.glob(path + \"/*.zip\")\n",
    "for filename in zips:\n",
    "    with zipfile.ZipFile(filename, 'r') as zip_ref:\n",
    "        zip_ref.extractall(path)"
   ]
  },
  {
   "cell_type": "code",
   "execution_count": 3,
   "metadata": {},
   "outputs": [],
   "source": [
    "csvs = glob.glob(path + \"/*.csv\")\n",
    "dfs = []\n",
    "\n",
    "for filename in csvs:\n",
    "    df = pd.read_csv(filename, usecols=['pickup_latitude', 'pickup_longitude', 'trip_start_timestamp', \n",
    "                                        'pickup_community_area'], parse_dates=['trip_start_timestamp'])\n",
    "    dfs.append(df)\n",
    "\n",
    "df = pd.concat(dfs, axis=0, ignore_index=True)"
   ]
  },
  {
   "cell_type": "markdown",
   "metadata": {},
   "source": [
    "### Exploratory data analysis"
   ]
  },
  {
   "cell_type": "code",
   "execution_count": 4,
   "metadata": {},
   "outputs": [
    {
     "data": {
      "text/html": [
       "<div>\n",
       "<style scoped>\n",
       "    .dataframe tbody tr th:only-of-type {\n",
       "        vertical-align: middle;\n",
       "    }\n",
       "\n",
       "    .dataframe tbody tr th {\n",
       "        vertical-align: top;\n",
       "    }\n",
       "\n",
       "    .dataframe thead th {\n",
       "        text-align: right;\n",
       "    }\n",
       "</style>\n",
       "<table border=\"1\" class=\"dataframe\">\n",
       "  <thead>\n",
       "    <tr style=\"text-align: right;\">\n",
       "      <th></th>\n",
       "      <th>trip_start_timestamp</th>\n",
       "      <th>pickup_community_area</th>\n",
       "      <th>pickup_latitude</th>\n",
       "      <th>pickup_longitude</th>\n",
       "    </tr>\n",
       "  </thead>\n",
       "  <tbody>\n",
       "    <tr>\n",
       "      <th>0</th>\n",
       "      <td>2016-01-13 06:15:00</td>\n",
       "      <td>24.0</td>\n",
       "      <td>199.0</td>\n",
       "      <td>510.0</td>\n",
       "    </tr>\n",
       "    <tr>\n",
       "      <th>1</th>\n",
       "      <td>2016-01-22 09:30:00</td>\n",
       "      <td>NaN</td>\n",
       "      <td>NaN</td>\n",
       "      <td>NaN</td>\n",
       "    </tr>\n",
       "    <tr>\n",
       "      <th>2</th>\n",
       "      <td>2016-01-31 21:30:00</td>\n",
       "      <td>NaN</td>\n",
       "      <td>NaN</td>\n",
       "      <td>NaN</td>\n",
       "    </tr>\n",
       "    <tr>\n",
       "      <th>3</th>\n",
       "      <td>2016-01-23 17:30:00</td>\n",
       "      <td>6.0</td>\n",
       "      <td>686.0</td>\n",
       "      <td>500.0</td>\n",
       "    </tr>\n",
       "    <tr>\n",
       "      <th>4</th>\n",
       "      <td>2016-01-14 05:45:00</td>\n",
       "      <td>32.0</td>\n",
       "      <td>385.0</td>\n",
       "      <td>478.0</td>\n",
       "    </tr>\n",
       "  </tbody>\n",
       "</table>\n",
       "</div>"
      ],
      "text/plain": [
       "  trip_start_timestamp  pickup_community_area  pickup_latitude  \\\n",
       "0  2016-01-13 06:15:00                   24.0            199.0   \n",
       "1  2016-01-22 09:30:00                    NaN              NaN   \n",
       "2  2016-01-31 21:30:00                    NaN              NaN   \n",
       "3  2016-01-23 17:30:00                    6.0            686.0   \n",
       "4  2016-01-14 05:45:00                   32.0            385.0   \n",
       "\n",
       "   pickup_longitude  \n",
       "0             510.0  \n",
       "1               NaN  \n",
       "2               NaN  \n",
       "3             500.0  \n",
       "4             478.0  "
      ]
     },
     "execution_count": 4,
     "metadata": {},
     "output_type": "execute_result"
    }
   ],
   "source": [
    "df.head()"
   ]
  },
  {
   "cell_type": "code",
   "execution_count": 6,
   "metadata": {},
   "outputs": [
    {
     "name": "stdout",
     "output_type": "stream",
     "text": [
      "<class 'pandas.core.frame.DataFrame'>\n",
      "RangeIndex: 5432105 entries, 0 to 5432104\n",
      "Data columns (total 4 columns):\n",
      " #   Column                 Non-Null Count    Dtype         \n",
      "---  ------                 --------------    -----         \n",
      " 0   trip_start_timestamp   5432105 non-null  datetime64[ns]\n",
      " 1   pickup_community_area  4512556 non-null  float64       \n",
      " 2   pickup_latitude        4512639 non-null  float64       \n",
      " 3   pickup_longitude       4512639 non-null  float64       \n",
      "dtypes: datetime64[ns](1), float64(3)\n",
      "memory usage: 165.8 MB\n"
     ]
    }
   ],
   "source": [
    "df.info(show_counts=True)"
   ]
  },
  {
   "cell_type": "code",
   "execution_count": 7,
   "metadata": {},
   "outputs": [
    {
     "data": {
      "text/plain": [
       "trip_start_timestamp          0\n",
       "pickup_community_area    919549\n",
       "pickup_latitude          919466\n",
       "pickup_longitude         919466\n",
       "dtype: int64"
      ]
     },
     "execution_count": 7,
     "metadata": {},
     "output_type": "execute_result"
    }
   ],
   "source": [
    "df.isnull().sum()"
   ]
  },
  {
   "cell_type": "markdown",
   "metadata": {},
   "source": [
    "As you can see we have more than 900.000 of rows without pickup location information. Let's drop them for our simple model. But ideally we need to take them into account (because they will affect the demand) and maybe try to distribute them proportionally among pickup locations."
   ]
  },
  {
   "cell_type": "code",
   "execution_count": 8,
   "metadata": {},
   "outputs": [],
   "source": [
    "df.dropna(inplace=True)\n",
    "df.reset_index(drop=True, inplace=True)"
   ]
  },
  {
   "cell_type": "code",
   "execution_count": 9,
   "metadata": {},
   "outputs": [],
   "source": [
    "df['pickup_latitude'] = df['pickup_latitude'].astype(int)\n",
    "df['pickup_longitude'] = df['pickup_longitude'].astype(int)\n",
    "df['pickup_community_area'] = df['pickup_community_area'].astype(int)"
   ]
  },
  {
   "cell_type": "markdown",
   "metadata": {},
   "source": [
    "Let's take a look at number of community areas and pickup locations."
   ]
  },
  {
   "cell_type": "code",
   "execution_count": 10,
   "metadata": {},
   "outputs": [
    {
     "name": "stdout",
     "output_type": "stream",
     "text": [
      "Number of community areas: 77\n"
     ]
    }
   ],
   "source": [
    "n_community_areas = len(df['pickup_community_area'].unique())\n",
    "print(f'Number of community areas: {n_community_areas}')"
   ]
  },
  {
   "cell_type": "markdown",
   "metadata": {},
   "source": [
    "Pickup latitude and pickup longitude in this dataset are not the real location, but just ids of centers of the pickup census tracts. Let's see how many unique pickup locations are there.\n",
    "Also let's create mapping of every pickup location to integrer id that is larger if location is more popular."
   ]
  },
  {
   "cell_type": "code",
   "execution_count": 11,
   "metadata": {},
   "outputs": [
    {
     "name": "stdout",
     "output_type": "stream",
     "text": [
      "Number of pickup locations: 436\n"
     ]
    }
   ],
   "source": [
    "pickup_locations = list(zip(df['pickup_latitude'], df['pickup_longitude']))\n",
    "counter = Counter(pickup_locations)\n",
    "unique_pickup_locations = {k: v for k, v in sorted(counter.items(), key=lambda item: item[1])}\n",
    "map_locations = dict(zip(unique_pickup_locations.keys(), range(len(unique_pickup_locations))))\n",
    "print(f'Number of pickup locations: {len(unique_pickup_locations)}')"
   ]
  },
  {
   "cell_type": "markdown",
   "metadata": {},
   "source": [
    "### Feature engineering\n",
    "Extracting day, month and day of week from trip_start_timestamp."
   ]
  },
  {
   "cell_type": "code",
   "execution_count": 12,
   "metadata": {},
   "outputs": [],
   "source": [
    "df['day_of_week'] = df['trip_start_timestamp'].dt.dayofweek\n",
    "df['day'] = df['trip_start_timestamp'].dt.day\n",
    "df['month'] = df['trip_start_timestamp'].dt.month"
   ]
  },
  {
   "cell_type": "markdown",
   "metadata": {},
   "source": [
    "Creating feature pickup location."
   ]
  },
  {
   "cell_type": "code",
   "execution_count": 13,
   "metadata": {},
   "outputs": [],
   "source": [
    "df['pickup_location'] = pd.Series(pickup_locations).map(map_locations)"
   ]
  },
  {
   "cell_type": "markdown",
   "metadata": {},
   "source": [
    "Creating feature *time bin*, that attributes every trip_start_timestamp to a time interval of 30 minutes and assigns it an integer id (larger is later)."
   ]
  },
  {
   "cell_type": "code",
   "execution_count": 14,
   "metadata": {},
   "outputs": [],
   "source": [
    "times = np.sort(df['trip_start_timestamp'].dt.floor('30min').dt.time.unique())\n",
    "time_map = dict(zip(times, range(len(times))))\n",
    "df['time_bin'] = df['trip_start_timestamp'].dt.floor('30min').dt.time.map(time_map)"
   ]
  },
  {
   "cell_type": "markdown",
   "metadata": {},
   "source": [
    "#### Features to consider for better model\n",
    "1. Is it a public holiday today?\n",
    "2. Weather coditions (i.e. general weather condition, temperature, amount of precipitation during last hour)\n",
    "3. Traffic\n",
    "4. Public events nearby"
   ]
  },
  {
   "cell_type": "markdown",
   "metadata": {},
   "source": [
    "Dropping several columns that we won't need anymore."
   ]
  },
  {
   "cell_type": "code",
   "execution_count": 15,
   "metadata": {},
   "outputs": [],
   "source": [
    "df.drop(columns=['trip_start_timestamp', 'pickup_latitude', 'pickup_longitude'], inplace=True)"
   ]
  },
  {
   "cell_type": "markdown",
   "metadata": {},
   "source": [
    "Counting number of pickups for every pickup location for every day and time bin."
   ]
  },
  {
   "cell_type": "code",
   "execution_count": 16,
   "metadata": {},
   "outputs": [],
   "source": [
    "ndf = df.value_counts(subset=['pickup_location', 'pickup_community_area', 'month', 'day', \n",
    "                                  'time_bin', 'day_of_week']).to_frame('orders').reset_index()"
   ]
  },
  {
   "cell_type": "code",
   "execution_count": 17,
   "metadata": {},
   "outputs": [
    {
     "data": {
      "text/html": [
       "<div>\n",
       "<style scoped>\n",
       "    .dataframe tbody tr th:only-of-type {\n",
       "        vertical-align: middle;\n",
       "    }\n",
       "\n",
       "    .dataframe tbody tr th {\n",
       "        vertical-align: top;\n",
       "    }\n",
       "\n",
       "    .dataframe thead th {\n",
       "        text-align: right;\n",
       "    }\n",
       "</style>\n",
       "<table border=\"1\" class=\"dataframe\">\n",
       "  <thead>\n",
       "    <tr style=\"text-align: right;\">\n",
       "      <th></th>\n",
       "      <th>pickup_location</th>\n",
       "      <th>pickup_community_area</th>\n",
       "      <th>month</th>\n",
       "      <th>day</th>\n",
       "      <th>time_bin</th>\n",
       "      <th>day_of_week</th>\n",
       "      <th>orders</th>\n",
       "    </tr>\n",
       "  </thead>\n",
       "  <tbody>\n",
       "    <tr>\n",
       "      <th>0</th>\n",
       "      <td>435</td>\n",
       "      <td>32</td>\n",
       "      <td>3</td>\n",
       "      <td>23</td>\n",
       "      <td>36</td>\n",
       "      <td>2</td>\n",
       "      <td>552</td>\n",
       "    </tr>\n",
       "    <tr>\n",
       "      <th>1</th>\n",
       "      <td>435</td>\n",
       "      <td>32</td>\n",
       "      <td>2</td>\n",
       "      <td>2</td>\n",
       "      <td>35</td>\n",
       "      <td>1</td>\n",
       "      <td>545</td>\n",
       "    </tr>\n",
       "    <tr>\n",
       "      <th>2</th>\n",
       "      <td>435</td>\n",
       "      <td>32</td>\n",
       "      <td>2</td>\n",
       "      <td>10</td>\n",
       "      <td>36</td>\n",
       "      <td>2</td>\n",
       "      <td>543</td>\n",
       "    </tr>\n",
       "    <tr>\n",
       "      <th>3</th>\n",
       "      <td>435</td>\n",
       "      <td>32</td>\n",
       "      <td>2</td>\n",
       "      <td>11</td>\n",
       "      <td>36</td>\n",
       "      <td>3</td>\n",
       "      <td>533</td>\n",
       "    </tr>\n",
       "    <tr>\n",
       "      <th>4</th>\n",
       "      <td>435</td>\n",
       "      <td>32</td>\n",
       "      <td>2</td>\n",
       "      <td>2</td>\n",
       "      <td>34</td>\n",
       "      <td>1</td>\n",
       "      <td>529</td>\n",
       "    </tr>\n",
       "  </tbody>\n",
       "</table>\n",
       "</div>"
      ],
      "text/plain": [
       "   pickup_location  pickup_community_area  month  day  time_bin  day_of_week  \\\n",
       "0              435                     32      3   23        36            2   \n",
       "1              435                     32      2    2        35            1   \n",
       "2              435                     32      2   10        36            2   \n",
       "3              435                     32      2   11        36            3   \n",
       "4              435                     32      2    2        34            1   \n",
       "\n",
       "   orders  \n",
       "0     552  \n",
       "1     545  \n",
       "2     543  \n",
       "3     533  \n",
       "4     529  "
      ]
     },
     "execution_count": 17,
     "metadata": {},
     "output_type": "execute_result"
    }
   ],
   "source": [
    "ndf.head()"
   ]
  },
  {
   "cell_type": "markdown",
   "metadata": {},
   "source": [
    "Dropping month and day as we only have 3 months of data and we are going with general model."
   ]
  },
  {
   "cell_type": "code",
   "execution_count": 18,
   "metadata": {},
   "outputs": [],
   "source": [
    "ndf.drop(columns=['month', 'day'], inplace=True)"
   ]
  },
  {
   "cell_type": "markdown",
   "metadata": {},
   "source": [
    "Let's take a look at how our features are corellated to demand."
   ]
  },
  {
   "cell_type": "code",
   "execution_count": 19,
   "metadata": {},
   "outputs": [
    {
     "data": {
      "text/plain": [
       "pickup_location          0.378684\n",
       "pickup_community_area    0.035317\n",
       "time_bin                 0.100171\n",
       "day_of_week             -0.035281\n",
       "orders                   1.000000\n",
       "Name: orders, dtype: float64"
      ]
     },
     "execution_count": 19,
     "metadata": {},
     "output_type": "execute_result"
    }
   ],
   "source": [
    "ndf.corr()['orders']"
   ]
  },
  {
   "cell_type": "code",
   "execution_count": 20,
   "metadata": {
    "scrolled": true
   },
   "outputs": [
    {
     "data": {
      "image/png": "[encoded data removed]",
      "text/plain": [
       "<Figure size 1440x432 with 1 Axes>"
      ]
     },
     "metadata": {
      "needs_background": "light"
     },
     "output_type": "display_data"
    }
   ],
   "source": [
    "plt.figure(figsize=(20,6))\n",
    "plt.title('Boxplot of number of taxi orders by time bin')\n",
    "sns.boxplot(x='orders', data=ndf)\n",
    "plt.show()"
   ]
  },
  {
   "cell_type": "markdown",
   "metadata": {},
   "source": [
    "We have a lot of outliers. So there are some time intervals where number of pickups is much higher, than in most of intervals."
   ]
  },
  {
   "cell_type": "markdown",
   "metadata": {},
   "source": [
    "### Model building\n",
    "Splitting dataset into train and test."
   ]
  },
  {
   "cell_type": "code",
   "execution_count": 21,
   "metadata": {},
   "outputs": [],
   "source": [
    "X_train, X_test, y_train, y_test = train_test_split(ndf.drop(columns=['orders']), ndf['orders'], \n",
    "                                                    test_size=0.3, random_state=42)"
   ]
  },
  {
   "cell_type": "markdown",
   "metadata": {},
   "source": [
    "Let's try several different models without tuning and compare them. We'er gonna use MSE as we have lots of outliers."
   ]
  },
  {
   "cell_type": "code",
   "execution_count": 22,
   "metadata": {},
   "outputs": [],
   "source": [
    "rf = RandomForestRegressor(n_jobs=-1, random_state=1)\n",
    "gb = GradientBoostingRegressor(random_state=1)\n",
    "lr = LinearRegression()\n",
    "\n",
    "rf.fit(X_train, y_train)\n",
    "gb.fit(X_train, y_train)\n",
    "lr.fit(X_train, y_train)\n",
    "\n",
    "rf_pred = rf.predict(X_test)\n",
    "gb_pred = gb.predict(X_test)\n",
    "lr_pred = lr.predict(X_test)"
   ]
  },
  {
   "cell_type": "code",
   "execution_count": 23,
   "metadata": {},
   "outputs": [],
   "source": [
    "predictions = [rf_pred, gb_pred, lr_pred]\n",
    "mse = []\n",
    "for pred in predictions:\n",
    "    mse.append(mean_squared_error(y_test, pred))"
   ]
  },
  {
   "cell_type": "code",
   "execution_count": 24,
   "metadata": {},
   "outputs": [
    {
     "data": {
      "text/html": [
       "<div>\n",
       "<style scoped>\n",
       "    .dataframe tbody tr th:only-of-type {\n",
       "        vertical-align: middle;\n",
       "    }\n",
       "\n",
       "    .dataframe tbody tr th {\n",
       "        vertical-align: top;\n",
       "    }\n",
       "\n",
       "    .dataframe thead th {\n",
       "        text-align: right;\n",
       "    }\n",
       "</style>\n",
       "<table border=\"1\" class=\"dataframe\">\n",
       "  <thead>\n",
       "    <tr style=\"text-align: right;\">\n",
       "      <th></th>\n",
       "      <th>Model</th>\n",
       "      <th>MSE</th>\n",
       "    </tr>\n",
       "  </thead>\n",
       "  <tbody>\n",
       "    <tr>\n",
       "      <th>0</th>\n",
       "      <td>Random Forrest</td>\n",
       "      <td>63.649554</td>\n",
       "    </tr>\n",
       "    <tr>\n",
       "      <th>1</th>\n",
       "      <td>Gradient Boosting</td>\n",
       "      <td>150.641892</td>\n",
       "    </tr>\n",
       "    <tr>\n",
       "      <th>2</th>\n",
       "      <td>Linear Regression</td>\n",
       "      <td>751.995338</td>\n",
       "    </tr>\n",
       "  </tbody>\n",
       "</table>\n",
       "</div>"
      ],
      "text/plain": [
       "               Model         MSE\n",
       "0     Random Forrest   63.649554\n",
       "1  Gradient Boosting  150.641892\n",
       "2  Linear Regression  751.995338"
      ]
     },
     "execution_count": 24,
     "metadata": {},
     "output_type": "execute_result"
    }
   ],
   "source": [
    "pd.DataFrame({'Model': ['Random Forrest', 'Gradient Boosting', 'Linear Regression'], 'MSE': mse})"
   ]
  },
  {
   "cell_type": "markdown",
   "metadata": {},
   "source": [
    "As you can see Random Forrest perfoms better, so we are gonna go with it. And let's take a look at coefficient of determination ($R^2$) of the random forrest prediction."
   ]
  },
  {
   "cell_type": "code",
   "execution_count": 25,
   "metadata": {},
   "outputs": [
    {
     "name": "stdout",
     "output_type": "stream",
     "text": [
      "R^2: 0.9288694585003493\n"
     ]
    }
   ],
   "source": [
    "r2 = rf.score(X_test, y_test)\n",
    "print(f'R^2: {r2}')"
   ]
  },
  {
   "cell_type": "markdown",
   "metadata": {},
   "source": [
    "Ideally we should fine tune the model with the help of GridSearchCV. But in our case I won't waste time on it because it will require some. And I'm not sure it will give us substential growth in accuracy."
   ]
  },
  {
   "cell_type": "code",
   "execution_count": 118,
   "metadata": {},
   "outputs": [],
   "source": [
    "# params = {'max_depth': [range(10, 101, 10)],\n",
    "#  'max_features': ['auto', 'sqrt'],\n",
    "#  'min_samples_leaf': [1, 2, 4],\n",
    "#  'min_samples_split': [2, 5, 10],\n",
    "#  'n_estimators': [int(x) for x in np.linspace(50, 1000, 5)]}\n",
    "\n",
    "# grid = GridSearchCV(rf, params, n_jobs=-1)\n",
    "# grid.fit(X_train, y_train)"
   ]
  },
  {
   "cell_type": "markdown",
   "metadata": {},
   "source": [
    "### Saving model"
   ]
  },
  {
   "cell_type": "code",
   "execution_count": 26,
   "metadata": {},
   "outputs": [],
   "source": [
    "with open('models/model.pkl', 'wb+') as file:\n",
    "    joblib.dump(rf, file, compress=3)"
   ]
  },
  {
   "cell_type": "markdown",
   "metadata": {},
   "source": [
    "Also we will need pickup location, community area and time bins dictionaries."
   ]
  },
  {
   "cell_type": "code",
   "execution_count": 27,
   "metadata": {},
   "outputs": [],
   "source": [
    "with open('models/locations.pkl', 'wb+') as file:\n",
    "    pickle.dump(map_locations, file)\n",
    "    \n",
    "with open('models/time.pkl', 'wb+') as file:\n",
    "    pickle.dump(time_map, file)\n",
    "    \n",
    "area_df = ndf[['pickup_location', 'pickup_community_area']].drop_duplicates(subset=['pickup_location'])\n",
    "map_area = dict(zip(area_df['pickup_location'], area_df['pickup_community_area']))\n",
    "with open('models/area.pkl', 'wb+') as file:\n",
    "    pickle.dump(map_area, file) "
   ]
  }
 ],
 "metadata": {
  "kernelspec": {
   "display_name": "taxi",
   "language": "python",
   "name": "taxi"
  },
  "language_info": {
   "codemirror_mode": {
    "name": "ipython",
    "version": 3
   },
   "file_extension": ".py",
   "mimetype": "text/x-python",
   "name": "python",
   "nbconvert_exporter": "python",
   "pygments_lexer": "ipython3",
   "version": "3.8.8"
  }
 },
 "nbformat": 4,
 "nbformat_minor": 4
}
